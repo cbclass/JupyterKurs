{
 "cells": [
  {
   "cell_type": "code",
   "execution_count": 2,
   "metadata": {
    "tags": []
   },
   "outputs": [
    {
     "data": {
      "application/vnd.jupyter.widget-view+json": {
       "model_id": "05f9c4b6e3fd4e14b1c1f63d13dd28af",
       "version_major": 2,
       "version_minor": 0
      },
      "text/plain": [
       "VBox(children=(Output(), RadioButtons(options=(('`print()`', 0), ('`printf()`', 1), ('`Print()`', 2), ('`outpu…"
      ]
     },
     "metadata": {},
     "output_type": "display_data"
    }
   ],
   "source": [
    "from questions import *\n",
    "\n",
    "Q1 = create_multipleChoice_widget_new_feedback('Wie heisst die Funktion, um Text auszugeben?','',['print()',\n",
    "                                                                                                  'printf()',\n",
    "                                                                                                  'Print()',\n",
    "                                                                                                  'output()',\n",
    "                                                                                                  'ausgabe'],\n",
    "                                               'print()',{'Print()':'Achten Sie auf Groß- und Kleinbuchstaben'})\n",
    "\n",
    "display(Q1)\n",
    "\n"
   ]
  },
  {
   "cell_type": "code",
   "execution_count": null,
   "metadata": {},
   "outputs": [],
   "source": []
  }
 ],
 "metadata": {
  "kernelspec": {
   "display_name": "Python 3 (ipykernel)",
   "language": "python",
   "name": "python3"
  },
  "language_info": {
   "codemirror_mode": {
    "name": "ipython",
    "version": 3
   },
   "file_extension": ".py",
   "mimetype": "text/x-python",
   "name": "python",
   "nbconvert_exporter": "python",
   "pygments_lexer": "ipython3",
   "version": "3.12.0"
  }
 },
 "nbformat": 4,
 "nbformat_minor": 4
}
