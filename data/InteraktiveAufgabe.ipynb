{
 "cells": [
  {
   "cell_type": "code",
   "execution_count": 3,
   "id": "5f7ddd48-3577-4bc7-911f-629ff8fedd14",
   "metadata": {},
   "outputs": [
    {
     "data": {
      "application/vnd.jupyter.widget-view+json": {
       "model_id": "090aec28af814c4388c6e0069ec068e9",
       "version_major": 2,
       "version_minor": 0
      },
      "text/plain": [
       "interactive(children=(FloatSlider(value=0.0, description='a', max=3.0), FloatSlider(value=0.0, description='b'…"
      ]
     },
     "metadata": {},
     "output_type": "display_data"
    }
   ],
   "source": [
    "%matplotlib widget\n",
    "\n",
    "from ipywidgets import interact, interactive, fixed, interact_manual\n",
    "import matplotlib.pyplot as plt\n",
    "import numpy as np\n",
    "\n",
    "def f(x,a,b):\n",
    "    return a*x+b\n",
    "\n",
    "def error(ydata,ydataf):\n",
    "    err=(ydata-ydataf)\n",
    "    err=np.abs(err)\n",
    "    return err.sum()\n",
    "\n",
    "\n",
    "def plotten(a=0,b=0): \n",
    "    xdata=np.array([0.        , 0.12820513, 0.25641026, 0.38461538, 0.51282051,\n",
    "       0.64102564, 0.76923077, 0.8974359 , 1.02564103, 1.15384615,\n",
    "       1.28205128, 1.41025641, 1.53846154, 1.66666667, 1.79487179,\n",
    "       1.92307692, 2.05128205, 2.17948718, 2.30769231, 2.43589744,\n",
    "       2.56410256, 2.69230769, 2.82051282, 2.94871795, 3.07692308,\n",
    "       3.20512821, 3.33333333, 3.46153846, 3.58974359, 3.71794872,\n",
    "       3.84615385, 3.97435897, 4.1025641 , 4.23076923, 4.35897436,\n",
    "       4.48717949, 4.61538462, 4.74358974, 4.87179487, 5.        ])\n",
    "    ydata=np.array([0.44634747, 0.67350051, 1.43673811, 0.76567313, 1.62877972,\n",
    "       1.21292041, 2.43798379, 2.38651046, 2.95048454, 2.61028369,\n",
    "       3.09894565, 3.11167269, 3.19388653, 3.67693063, 3.47411979,\n",
    "       3.96283223, 4.49615819, 4.52238689, 4.59999046, 5.59786676,\n",
    "       5.17642615, 5.20087123, 5.64274156, 5.65598044, 5.91523804,\n",
    "       6.14365563, 7.07424337, 6.69139123, 6.95523278, 7.32277319,\n",
    "       7.94352517, 7.48930702, 7.58719623, 8.73469889, 7.7723666 ,\n",
    "       8.31804865, 8.84621874, 9.54918653, 8.79708033, 8.57167643])\n",
    "\n",
    "    plt.clf()\n",
    "    plt.plot(xdata,ydata,'*',label=\"Messpunkte\")\n",
    "    ydataf=f(xdata,a,b)\n",
    "    plt.plot(xdata, ydataf,label=r\"$f(x)=a\\cdot x+b$\")\n",
    "    plt.xlim(-0.1,5.1)\n",
    "    plt.ylim(-0.5,10)\n",
    "    plt.xlabel(\"x\")\n",
    "    plt.ylabel(\"y\")\n",
    "    plt.legend(loc=2)\n",
    "    print(f\"Summe der absoluten Fehler: {error(ydata,ydataf):.2f}\")\n",
    "    \n",
    "a=interactive(plotten,a=(0,3.0), b=(-3.0,3))\n",
    "display(a)\n"
   ]
  },
  {
   "cell_type": "code",
   "execution_count": null,
   "id": "aaf11918-1771-4557-89a8-fc796e1bdbbf",
   "metadata": {},
   "outputs": [],
   "source": []
  }
 ],
 "metadata": {
  "kernelspec": {
   "display_name": "Python 3 (ipykernel)",
   "language": "python",
   "name": "python3"
  },
  "language_info": {
   "codemirror_mode": {
    "name": "ipython",
    "version": 3
   },
   "file_extension": ".py",
   "mimetype": "text/x-python",
   "name": "python",
   "nbconvert_exporter": "python",
   "pygments_lexer": "ipython3",
   "version": "3.12.0"
  }
 },
 "nbformat": 4,
 "nbformat_minor": 5
}
